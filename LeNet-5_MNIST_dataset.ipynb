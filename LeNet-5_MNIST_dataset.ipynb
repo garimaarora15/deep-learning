{
 "cells": [
  {
   "cell_type": "code",
   "execution_count": 1,
   "id": "9ca455cc-3193-4f39-b93b-0d2a07e09e32",
   "metadata": {},
   "outputs": [],
   "source": [
    "import numpy as np\n",
    "import pandas as pd\n",
    "import matplotlib.pyplot as plt\n",
    "from tensorflow.keras import Sequential\n",
    "from tensorflow.keras.losses import CategoricalCrossentropy\n",
    "from tensorflow.keras.layers import Conv2D, AveragePooling2D, Flatten, Dense"
   ]
  },
  {
   "cell_type": "code",
   "execution_count": 2,
   "id": "87a42e0d-af15-4834-9d09-ddcdef237c6f",
   "metadata": {},
   "outputs": [
    {
     "data": {
      "application/javascript": [
       "\n",
       "        if (window._pyforest_update_imports_cell) { window._pyforest_update_imports_cell('import tensorflow as tf'); }\n",
       "    "
      ],
      "text/plain": [
       "<IPython.core.display.Javascript object>"
      ]
     },
     "metadata": {},
     "output_type": "display_data"
    }
   ],
   "source": [
    "(X_train, y_train), (X_test, y_test) = tf.keras.datasets.mnist.load_data()\n",
    "X_val, y_val = X_train[55000:, ..., np.newaxis], y_train[55000:]\n",
    "X_train, y_train = X_train[:55000, ..., np.newaxis], y_train[:55000]\n",
    "X_test = X_test[..., np.newaxis]"
   ]
  },
  {
   "cell_type": "code",
   "execution_count": 3,
   "id": "3fb2e81d-ea3b-4426-918b-b1adab31bd97",
   "metadata": {},
   "outputs": [
    {
     "name": "stdout",
     "output_type": "stream",
     "text": [
      "Image shape: (28, 28, 1)\n",
      "\n",
      "Training set: 55000 samples\n",
      "Test set: 10000 samples\n",
      "Validation set: 5000 samples\n"
     ]
    }
   ],
   "source": [
    "print(\"Image shape: {}\".format(X_train[0].shape), end = '\\n\\n')\n",
    "print(\"Training set: {} samples\".format(len(X_train)))\n",
    "print(\"Test set: {} samples\".format(len(X_test)))\n",
    "print(\"Validation set: {} samples\".format(len(X_val)))"
   ]
  },
  {
   "cell_type": "code",
   "execution_count": 4,
   "id": "05573159-ca3a-4a30-82c8-2dc6c495648e",
   "metadata": {},
   "outputs": [],
   "source": [
    "X_train = np.pad(X_train, ((0, 0), (2, 2), (2, 2), (0, 0)), 'constant')\n",
    "X_test = np.pad(X_test, ((0, 0), (2, 2), (2, 2), (0, 0)), 'constant')\n",
    "X_val = np.pad(X_val, ((0, 0), (2, 2), (2, 2), (0, 0)), 'constant')"
   ]
  },
  {
   "cell_type": "code",
   "execution_count": 5,
   "id": "e20a0cbe-6922-4977-8196-dd8677e4d176",
   "metadata": {},
   "outputs": [
    {
     "name": "stdout",
     "output_type": "stream",
     "text": [
      "Updated Image Shape for: \n",
      "\n",
      "- Training set: (55000, 32, 32, 1)\n",
      "- Validation set: (5000, 32, 32, 1)\n",
      "- Test set: (10000, 32, 32, 1)\n"
     ]
    }
   ],
   "source": [
    "print(\"Updated Image Shape for: \", end='\\n\\n')\n",
    "print(\"- Training set: {}\".format(X_train.shape))\n",
    "print(\"- Validation set: {}\".format(X_val.shape))\n",
    "print(\"- Test set: {}\".format(X_test.shape))"
   ]
  },
  {
   "cell_type": "code",
   "execution_count": 6,
   "id": "157b88dd-4064-45cb-851e-f39cb0cc04f7",
   "metadata": {},
   "outputs": [],
   "source": [
    "X_train, X_val, X_test = X_train/ float(255), X_val/ float(255), X_test/ float(255)\n",
    "X_train -= np.mean(X_train)\n",
    "X_test -= np.mean(X_test)\n",
    "X_val -= np.mean(X_val)"
   ]
  },
  {
   "cell_type": "code",
   "execution_count": 7,
   "id": "b99a87d8-7c3f-40dd-828b-440dd42f9123",
   "metadata": {},
   "outputs": [],
   "source": [
    "model = Sequential()\n",
    "\n",
    "model.add(Conv2D(6, kernel_size = (5, 5), strides = (1, 1), activation = 'tanh', input_shape = (32, 32, 1), padding = 'valid'))\n",
    "\n",
    "model.add(AveragePooling2D(pool_size=(2, 2), strides=(2, 2), padding='valid'))\n",
    "\n",
    "model.add(Conv2D(16, kernel_size=(5, 5), strides=(1, 1), activation='tanh', padding='valid'))\n",
    "\n",
    "model.add(AveragePooling2D(pool_size=(2, 2), strides=(2, 2), padding='valid'))\n",
    "\n",
    "model.add(Flatten())\n",
    "\n",
    "model.add(Dense(120, activation='tanh'))\n",
    "\n",
    "model.add(Dense(84, activation='tanh'))\n",
    "\n",
    "model.add(Dense(10, activation='softmax'))\n",
    "\n",
    "model.compile(loss='sparse_categorical_crossentropy', optimizer='sgd', metrics=['accuracy']) "
   ]
  },
  {
   "cell_type": "code",
   "execution_count": 8,
   "id": "bf3e8788-4081-4110-91b4-79eba982895a",
   "metadata": {},
   "outputs": [
    {
     "name": "stdout",
     "output_type": "stream",
     "text": [
      "Epoch 1/5\n",
      "1719/1719 [==============================] - 25s 14ms/step - loss: 0.6031 - accuracy: 0.8389 - val_loss: 0.2542 - val_accuracy: 0.9336\n",
      "Epoch 2/5\n",
      "1719/1719 [==============================] - 23s 13ms/step - loss: 0.2780 - accuracy: 0.9187 - val_loss: 0.1820 - val_accuracy: 0.9508\n",
      "Epoch 3/5\n",
      "1719/1719 [==============================] - 23s 13ms/step - loss: 0.2103 - accuracy: 0.9371 - val_loss: 0.1467 - val_accuracy: 0.9590\n",
      "Epoch 4/5\n",
      "1719/1719 [==============================] - 23s 13ms/step - loss: 0.1679 - accuracy: 0.9500 - val_loss: 0.1179 - val_accuracy: 0.9668\n",
      "Epoch 5/5\n",
      "1719/1719 [==============================] - 22s 13ms/step - loss: 0.1386 - accuracy: 0.9587 - val_loss: 0.1000 - val_accuracy: 0.9716\n"
     ]
    }
   ],
   "source": [
    "history = model.fit(X_train, y_train, validation_data = (X_val, y_val), epochs = 5)"
   ]
  },
  {
   "cell_type": "code",
   "execution_count": 9,
   "id": "91a064f6-8101-4507-8ea7-5a97becb5a15",
   "metadata": {},
   "outputs": [
    {
     "name": "stdout",
     "output_type": "stream",
     "text": [
      "313/313 [==============================] - 3s 8ms/step\n",
      "Test set error rate: 0.0361\n"
     ]
    }
   ],
   "source": [
    "predictions = model.predict(X_test)\n",
    "y_pred = np.argmax(predictions, axis = 1)\n",
    "print('Test set error rate: {}'.format(np.mean(y_pred != y_test)))"
   ]
  },
  {
   "cell_type": "code",
   "execution_count": 10,
   "id": "f68eedb2-4c64-413b-8018-a4a8d25c1f0b",
   "metadata": {},
   "outputs": [
    {
     "name": "stdout",
     "output_type": "stream",
     "text": [
      "Plot of the training error:\n"
     ]
    },
    {
     "data": {
      "image/png": "[encoded data removed]",
      "text/plain": [
       "<Figure size 432x288 with 1 Axes>"
      ]
     },
     "metadata": {
      "needs_background": "light"
     },
     "output_type": "display_data"
    }
   ],
   "source": [
    "print('Plot of the training error:')\n",
    "plt.title('Training error')\n",
    "plt.ylabel('Cost')\n",
    "plt.xlabel('epoch')\n",
    "\n",
    "plt.plot(history.history['loss'])\n",
    "plt.plot(history.history['val_loss'])\n",
    "plt.legend(['train loss', 'val loss'], loc='upper right')\n",
    "plt.show()"
   ]
  }
 ],
 "metadata": {
  "kernelspec": {
   "display_name": "Python 3 (ipykernel)",
   "language": "python",
   "name": "python3"
  },
  "language_info": {
   "codemirror_mode": {
    "name": "ipython",
    "version": 3
   },
   "file_extension": ".py",
   "mimetype": "text/x-python",
   "name": "python",
   "nbconvert_exporter": "python",
   "pygments_lexer": "ipython3",
   "version": "3.10.4"
  }
 },
 "nbformat": 4,
 "nbformat_minor": 5
}
