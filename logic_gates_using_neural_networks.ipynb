{
 "cells": [
  {
   "cell_type": "code",
   "execution_count": 1,
   "id": "6811baa1-b61d-4d89-b50c-49da2512acdc",
   "metadata": {},
   "outputs": [],
   "source": [
    "import numpy as np\n",
    "import pandas as pd"
   ]
  },
  {
   "cell_type": "markdown",
   "id": "48c883c7-f3f9-4637-a595-c4296f396752",
   "metadata": {},
   "source": [
    "# OR Gate"
   ]
  },
  {
   "cell_type": "code",
   "execution_count": 2,
   "id": "aa940495-d77b-475e-b207-9954356af707",
   "metadata": {},
   "outputs": [
    {
     "name": "stdin",
     "output_type": "stream",
     "text": [
      "Enter the weight w1:  2\n",
      "Enter the weight w2:  3\n"
     ]
    },
    {
     "name": "stdout",
     "output_type": "stream",
     "text": [
      "[(0, 0), (0, 1), (1, 0), (1, 1)]\n"
     ]
    }
   ],
   "source": [
    "w1 = int(input('Enter the weight w1: '))\n",
    "w2 = int(input('Enter the weight w2: '))\n",
    "w = [w1, w2]\n",
    "coordinates = [(x, y) for x in range(2) for y in range(2)]\n",
    "print(coordinates)"
   ]
  },
  {
   "cell_type": "code",
   "execution_count": 3,
   "id": "8157c58d-ef6e-4915-a242-eae49cc09c16",
   "metadata": {},
   "outputs": [
    {
     "name": "stdout",
     "output_type": "stream",
     "text": [
      "[0, 1, 1, 1]\n"
     ]
    }
   ],
   "source": [
    "orgate = [x or y for x in range(2) for y in range(2)]\n",
    "print(orgate)"
   ]
  },
  {
   "cell_type": "code",
   "execution_count": 8,
   "id": "4972bda1-fe19-4718-862e-e602f3114209",
   "metadata": {},
   "outputs": [
    {
     "name": "stdout",
     "output_type": "stream",
     "text": [
      "r =  (0, 0)   w =  [2, 3]   z =  0\n",
      "r =  (0, 1)   w =  [2, 3]   z =  3\n",
      "r =  (1, 0)   w =  [2, 3]   z =  2\n",
      "r =  (1, 1)   w =  [2, 3]   z =  5\n"
     ]
    }
   ],
   "source": [
    "efficiency = 0\n",
    "i = 0\n",
    "for r in coordinates:\n",
    "    z = np.dot(r, w)\n",
    "    print(\"r = \", r, \"  w = \", w, \"  z = \", z)\n",
    "    if z > 0: \n",
    "        output = 1\n",
    "    else:\n",
    "        output = 0\n",
    "    if output == orgate[i]:\n",
    "        efficiency += 1\n",
    "    i += 1"
   ]
  },
  {
   "cell_type": "code",
   "execution_count": 9,
   "id": "e8129403-dc6d-4e3f-9570-3026ccf6b14f",
   "metadata": {},
   "outputs": [
    {
     "name": "stdout",
     "output_type": "stream",
     "text": [
      "Efficiency:  100.0 %\n"
     ]
    }
   ],
   "source": [
    "performance = (efficiency / 4) * 100\n",
    "print(\"Efficiency: \", performance, \"%\")"
   ]
  },
  {
   "cell_type": "markdown",
   "id": "d7bfa548-7492-461c-ab36-1b71162aaf10",
   "metadata": {},
   "source": [
    "# AND Gate"
   ]
  },
  {
   "cell_type": "code",
   "execution_count": 20,
   "id": "e3c4eb33-808e-4a3a-8994-d4e83fd5b7fd",
   "metadata": {},
   "outputs": [
    {
     "name": "stdin",
     "output_type": "stream",
     "text": [
      "Enter the weight w1:  -1\n",
      "Enter the weight w2:  -2\n",
      "Enter the bias term:  -1\n"
     ]
    },
    {
     "name": "stdout",
     "output_type": "stream",
     "text": [
      "[(0, 0), (0, 1), (1, 0), (1, 1)]\n"
     ]
    }
   ],
   "source": [
    "w1 = int(input('Enter the weight w1: '))\n",
    "w2 = int(input('Enter the weight w2: '))\n",
    "w = [w1, w2]\n",
    "bias = int(input('Enter the bias term: '))\n",
    "coordinates = [(x, y) for x in range(2) for y in range(2)]\n",
    "print(coordinates)"
   ]
  },
  {
   "cell_type": "code",
   "execution_count": 21,
   "id": "de35e07c-c752-4e10-959a-a5c91b637d2c",
   "metadata": {},
   "outputs": [
    {
     "name": "stdout",
     "output_type": "stream",
     "text": [
      "[0, 0, 0, 1]\n"
     ]
    }
   ],
   "source": [
    "andgate = [x and y for x in range(2) for y in range(2)]\n",
    "print(andgate)"
   ]
  },
  {
   "cell_type": "code",
   "execution_count": 22,
   "id": "f207a190-c6cc-47eb-8415-98bb6fda9959",
   "metadata": {},
   "outputs": [
    {
     "name": "stdout",
     "output_type": "stream",
     "text": [
      "r =  (0, 0)   w =  [-1, -2]   z =  -1\n",
      "r =  (0, 1)   w =  [-1, -2]   z =  -3\n",
      "r =  (1, 0)   w =  [-1, -2]   z =  -2\n",
      "r =  (1, 1)   w =  [-1, -2]   z =  -4\n"
     ]
    }
   ],
   "source": [
    "efficiency = 0\n",
    "i = 0\n",
    "for r in coordinates:\n",
    "    z = np.dot(r, w) + bias\n",
    "    print(\"r = \", r, \"  w = \", w, \"  z = \", z)\n",
    "    if z > 0: \n",
    "        output = 1\n",
    "    else:\n",
    "        output = 0\n",
    "    if output == andgate[i]:\n",
    "        efficiency += 1\n",
    "    i += 1"
   ]
  },
  {
   "cell_type": "code",
   "execution_count": 23,
   "id": "f3f3f37b-a9b8-4eef-92dc-6b2b312018cb",
   "metadata": {},
   "outputs": [
    {
     "name": "stdout",
     "output_type": "stream",
     "text": [
      "Efficiency:  75.0 %\n"
     ]
    }
   ],
   "source": [
    "performance = (efficiency / 4) * 100\n",
    "print(\"Efficiency: \", performance, \"%\")"
   ]
  },
  {
   "cell_type": "markdown",
   "id": "80e23ea9-9db9-4e3b-abed-62abed2c47f9",
   "metadata": {},
   "source": [
    "# NOR Gate"
   ]
  },
  {
   "cell_type": "code",
   "execution_count": 29,
   "id": "32d00fcb-b408-4a18-88cb-6740209aef51",
   "metadata": {},
   "outputs": [
    {
     "name": "stdin",
     "output_type": "stream",
     "text": [
      "Enter the weight w1:  -1\n",
      "Enter the weight w2:  -2\n",
      "Enter the bias term:  -2\n"
     ]
    },
    {
     "name": "stdout",
     "output_type": "stream",
     "text": [
      "[(0, 0), (0, 1), (1, 0), (1, 1)]\n"
     ]
    }
   ],
   "source": [
    "w1 = int(input('Enter the weight w1: '))\n",
    "w2 = int(input('Enter the weight w2: '))\n",
    "w = [w1, w2]\n",
    "bias = int(input('Enter the bias term: '))\n",
    "coordinates = [(x, y) for x in range(2) for y in range(2)]\n",
    "print(coordinates)"
   ]
  },
  {
   "cell_type": "code",
   "execution_count": 30,
   "id": "b2322e9f-8f67-4156-85c7-596a633a51d6",
   "metadata": {},
   "outputs": [
    {
     "name": "stdout",
     "output_type": "stream",
     "text": [
      "[1, 0, 0, 0]\n"
     ]
    }
   ],
   "source": [
    "norgate = [int(not(x or y)) for x in range(2) for y in range(2)]\n",
    "print(norgate)"
   ]
  },
  {
   "cell_type": "code",
   "execution_count": 31,
   "id": "a50f8337-5a37-416b-993c-8a4cc3592db0",
   "metadata": {},
   "outputs": [
    {
     "name": "stdout",
     "output_type": "stream",
     "text": [
      "r =  (0, 0)   w =  [-1, -2]   z =  -2\n",
      "r =  (0, 1)   w =  [-1, -2]   z =  -4\n",
      "r =  (1, 0)   w =  [-1, -2]   z =  -3\n",
      "r =  (1, 1)   w =  [-1, -2]   z =  -5\n"
     ]
    }
   ],
   "source": [
    "efficiency = 0\n",
    "i = 0\n",
    "for r in coordinates:\n",
    "    z = np.dot(r, w) + bias\n",
    "    print(\"r = \", r, \"  w = \", w, \"  z = \", z)\n",
    "    if z > 0: \n",
    "        output = 1\n",
    "    else:\n",
    "        output = 0\n",
    "    if output == norgate[i]:\n",
    "        efficiency += 1\n",
    "    i += 1"
   ]
  },
  {
   "cell_type": "code",
   "execution_count": 32,
   "id": "e9a3e2cf-ed97-439a-828e-95c6c9d5ea52",
   "metadata": {},
   "outputs": [
    {
     "name": "stdout",
     "output_type": "stream",
     "text": [
      "Efficiency:  75.0 %\n"
     ]
    }
   ],
   "source": [
    "performance = (efficiency / 4) * 100\n",
    "print(\"Efficiency: \", performance, \"%\")"
   ]
  },
  {
   "cell_type": "markdown",
   "id": "7b404158-eef1-4ba6-8cb8-6433ddcb1981",
   "metadata": {},
   "source": [
    "# NAND Gate "
   ]
  },
  {
   "cell_type": "code",
   "execution_count": 33,
   "id": "754ed8c5-e62a-45ca-a840-75592f583fc4",
   "metadata": {},
   "outputs": [
    {
     "name": "stdin",
     "output_type": "stream",
     "text": [
      "Enter the weight w1:  -3\n",
      "Enter the weight w2:  -2\n",
      "Enter the bias term:  5\n"
     ]
    },
    {
     "name": "stdout",
     "output_type": "stream",
     "text": [
      "[(0, 0), (0, 1), (1, 0), (1, 1)]\n"
     ]
    }
   ],
   "source": [
    "w1 = int(input('Enter the weight w1: '))\n",
    "w2 = int(input('Enter the weight w2: '))\n",
    "w = [w1, w2]\n",
    "bias = int(input('Enter the bias term: '))\n",
    "coordinates = [(x, y) for x in range(2) for y in range(2)]\n",
    "print(coordinates)"
   ]
  },
  {
   "cell_type": "code",
   "execution_count": 35,
   "id": "98ec31e8-dc65-49e4-894b-94ba877e6165",
   "metadata": {},
   "outputs": [
    {
     "name": "stdout",
     "output_type": "stream",
     "text": [
      "[1, 1, 1, 0]\n"
     ]
    }
   ],
   "source": [
    "nandgate = [int(not(x and y)) for x in range(2) for y in range(2)]\n",
    "print(nandgate)"
   ]
  },
  {
   "cell_type": "code",
   "execution_count": 36,
   "id": "dede80a4-c5f0-434d-a820-dadd541ca3db",
   "metadata": {},
   "outputs": [
    {
     "name": "stdout",
     "output_type": "stream",
     "text": [
      "r =  (0, 0)   w =  [-3, -2]   z =  5\n",
      "r =  (0, 1)   w =  [-3, -2]   z =  3\n",
      "r =  (1, 0)   w =  [-3, -2]   z =  2\n",
      "r =  (1, 1)   w =  [-3, -2]   z =  0\n"
     ]
    }
   ],
   "source": [
    "efficiency = 0\n",
    "i = 0\n",
    "for r in coordinates:\n",
    "    z = np.dot(r, w) + bias\n",
    "    print(\"r = \", r, \"  w = \", w, \"  z = \", z)\n",
    "    if z > 0: \n",
    "        output = 1\n",
    "    else:\n",
    "        output = 0\n",
    "    if output == nandgate[i]:\n",
    "        efficiency += 1\n",
    "    i += 1"
   ]
  },
  {
   "cell_type": "code",
   "execution_count": 37,
   "id": "c038d62f-e54d-481f-8ea4-40031e943c53",
   "metadata": {},
   "outputs": [
    {
     "name": "stdout",
     "output_type": "stream",
     "text": [
      "Efficiency:  100.0 %\n"
     ]
    }
   ],
   "source": [
    "performance = (efficiency / 4) * 100\n",
    "print(\"Efficiency: \", performance, \"%\")"
   ]
  },
  {
   "cell_type": "markdown",
   "id": "e0f71fa3-7c7b-47bc-b7bd-e76c265a4ec8",
   "metadata": {},
   "source": [
    "# XNOR Gate"
   ]
  },
  {
   "cell_type": "code",
   "execution_count": 44,
   "id": "8ff9c19d-bcef-41b2-8d7d-93ce5e5bcfe5",
   "metadata": {},
   "outputs": [
    {
     "name": "stdin",
     "output_type": "stream",
     "text": [
      "Enter the weight w1:  -2\n",
      "Enter the weight w2:  4\n",
      "Enter the bias term:  2\n"
     ]
    },
    {
     "name": "stdout",
     "output_type": "stream",
     "text": [
      "[(0, 0), (0, 1), (1, 0), (1, 1)]\n"
     ]
    }
   ],
   "source": [
    "w1 = int(input('Enter the weight w1: '))\n",
    "w2 = int(input('Enter the weight w2: '))\n",
    "w = [w1, w2]\n",
    "bias = int(input('Enter the bias term: '))\n",
    "coordinates = [(x, y) for x in range(2) for y in range(2)]\n",
    "print(coordinates)"
   ]
  },
  {
   "cell_type": "code",
   "execution_count": 45,
   "id": "8322c141-2a62-49d8-a7bb-1c010c2fd650",
   "metadata": {},
   "outputs": [
    {
     "name": "stdout",
     "output_type": "stream",
     "text": [
      "[1, 0, 0, 1]\n"
     ]
    }
   ],
   "source": [
    "xnorgate = [1 if x == y else 0 for x in range(2) for y in range(2)]\n",
    "print(xnorgate)"
   ]
  },
  {
   "cell_type": "code",
   "execution_count": 46,
   "id": "54a0360c-a4a2-4c19-b68f-7d923313857a",
   "metadata": {},
   "outputs": [
    {
     "name": "stdout",
     "output_type": "stream",
     "text": [
      "r =  (0, 0)   w =  [-2, 4]   z =  2\n",
      "r =  (0, 1)   w =  [-2, 4]   z =  6\n",
      "r =  (1, 0)   w =  [-2, 4]   z =  0\n",
      "r =  (1, 1)   w =  [-2, 4]   z =  4\n"
     ]
    }
   ],
   "source": [
    "efficiency = 0\n",
    "i = 0\n",
    "for r in coordinates:\n",
    "    z = np.dot(r, w) + bias\n",
    "    print(\"r = \", r, \"  w = \", w, \"  z = \", z)\n",
    "    if z > 0: \n",
    "        output = 1\n",
    "    else:\n",
    "        output = 0\n",
    "    if output == xnorgate[i]:\n",
    "        efficiency += 1\n",
    "    i += 1"
   ]
  },
  {
   "cell_type": "code",
   "execution_count": 47,
   "id": "f0c80eaa-2b48-40a3-8d8b-ec7ec78e4f35",
   "metadata": {},
   "outputs": [
    {
     "name": "stdout",
     "output_type": "stream",
     "text": [
      "Efficiency:  75.0 %\n"
     ]
    }
   ],
   "source": [
    "performance = (efficiency / 4) * 100\n",
    "print(\"Efficiency: \", performance, \"%\")"
   ]
  },
  {
   "cell_type": "markdown",
   "id": "c6a3e2c0-1dc8-4b2e-ba6e-d967992448ca",
   "metadata": {},
   "source": [
    "# XOR Gate"
   ]
  },
  {
   "cell_type": "code",
   "execution_count": 48,
   "id": "7a2635bd-024a-4660-8b6a-ad119083c431",
   "metadata": {},
   "outputs": [
    {
     "name": "stdin",
     "output_type": "stream",
     "text": [
      "Enter the weight w1:  4\n",
      "Enter the weight w2:  -2\n",
      "Enter the bias term:  -1\n"
     ]
    },
    {
     "name": "stdout",
     "output_type": "stream",
     "text": [
      "[(0, 0), (0, 1), (1, 0), (1, 1)]\n"
     ]
    }
   ],
   "source": [
    "w1 = int(input('Enter the weight w1: '))\n",
    "w2 = int(input('Enter the weight w2: '))\n",
    "w = [w1, w2]\n",
    "bias = int(input('Enter the bias term: '))\n",
    "coordinates = [(x, y) for x in range(2) for y in range(2)]\n",
    "print(coordinates)"
   ]
  },
  {
   "cell_type": "code",
   "execution_count": 49,
   "id": "85293c44-22bf-45fd-a9a0-c4a4043ab5c2",
   "metadata": {},
   "outputs": [
    {
     "name": "stdout",
     "output_type": "stream",
     "text": [
      "[0, 1, 1, 0]\n"
     ]
    }
   ],
   "source": [
    "xorgate = [0 if x == y else 1 for x in range(2) for y in range(2)]\n",
    "print(xorgate)"
   ]
  },
  {
   "cell_type": "code",
   "execution_count": 50,
   "id": "f60951a2-58bd-4078-89f6-694ed70f80a1",
   "metadata": {},
   "outputs": [
    {
     "name": "stdout",
     "output_type": "stream",
     "text": [
      "r =  (0, 0)   w =  [4, -2]   z =  -1\n",
      "r =  (0, 1)   w =  [4, -2]   z =  -3\n",
      "r =  (1, 0)   w =  [4, -2]   z =  3\n",
      "r =  (1, 1)   w =  [4, -2]   z =  1\n"
     ]
    }
   ],
   "source": [
    "efficiency = 0\n",
    "i = 0\n",
    "for r in coordinates:\n",
    "    z = np.dot(r, w) + bias\n",
    "    print(\"r = \", r, \"  w = \", w, \"  z = \", z)\n",
    "    if z > 0: \n",
    "        output = 1\n",
    "    else:\n",
    "        output = 0\n",
    "    if output == xorgate[i]:\n",
    "        efficiency += 1\n",
    "    i += 1"
   ]
  },
  {
   "cell_type": "code",
   "execution_count": 51,
   "id": "4d7dec5c-6358-4fc4-8b42-e658b208f1c1",
   "metadata": {},
   "outputs": [
    {
     "name": "stdout",
     "output_type": "stream",
     "text": [
      "Efficiency:  50.0 %\n"
     ]
    }
   ],
   "source": [
    "performance = (efficiency / 4) * 100\n",
    "print(\"Efficiency: \", performance, \"%\")"
   ]
  }
 ],
 "metadata": {
  "kernelspec": {
   "display_name": "Python 3 (ipykernel)",
   "language": "python",
   "name": "python3"
  },
  "language_info": {
   "codemirror_mode": {
    "name": "ipython",
    "version": 3
   },
   "file_extension": ".py",
   "mimetype": "text/x-python",
   "name": "python",
   "nbconvert_exporter": "python",
   "pygments_lexer": "ipython3",
   "version": "3.10.4"
  }
 },
 "nbformat": 4,
 "nbformat_minor": 5
}
